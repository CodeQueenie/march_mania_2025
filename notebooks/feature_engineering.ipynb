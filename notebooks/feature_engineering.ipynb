{
 "cells": [
  {
   "cell_type": "markdown",
   "metadata": {},
   "source": [
    "# Feature Engineering for March Madness Predictions\n",
    "\n",
    "This notebook creates predictive features by:\n",
    "1. Calculating advanced team statistics\n",
    "2. Incorporating historical tournament performance\n",
    "3. Engineering matchup-specific features\n",
    "4. Preparing features for modeling"
   ]
  },
  {
   "cell_type": "code",
   "execution_count": 17,
   "metadata": {},
   "outputs": [],
   "source": [
    "import pandas as pd\n",
    "import numpy as np\n",
    "from sklearn.preprocessing import StandardScaler\n",
    "import os\n",
    "regular_season = pd.read_csv(\"../data/MRegularSeasonCompactResults.csv\")\n",
    "seeds = pd.read_csv(\"../data/MNCAATourneySeeds.csv\")"
   ]
  },
  {
   "cell_type": "markdown",
   "metadata": {},
   "source": [
    "## Team Performance Metrics\n",
    "\n",
    "Calculate season stats for each team:"
   ]
  },
  {
   "cell_type": "code",
   "execution_count": 18,
   "metadata": {},
   "outputs": [],
   "source": [
    "def calculate_season_stats(df, season):\n",
    "    \"\"\"Calculate team statistics for a given season\"\"\"\n",
    "    season_games = df[df['Season'] == season]\n",
    "    \n",
    "    # Calculate aggregate stats\n",
    "    winning_stats = season_games.groupby('WTeamID').agg({\n",
    "        'WScore': ['count', 'mean'],\n",
    "        'LScore': ['mean'],\n",
    "        'NumOT': ['sum']\n",
    "    }).reset_index()\n",
    "    \n",
    "    losing_stats = season_games.groupby('LTeamID').agg({\n",
    "        'WScore': ['mean'], \n",
    "        'LScore': ['count', 'mean'],\n",
    "        'NumOT': ['sum']\n",
    "    }).reset_index()\n",
    "    \n",
    "    return winning_stats, losing_stats"
   ]
  },
  {
   "cell_type": "code",
   "execution_count": 19,
   "metadata": {},
   "outputs": [
    {
     "name": "stdout",
     "output_type": "stream",
     "text": [
      "Saved features to ../data/features/team_season_stats.csv\n"
     ]
    }
   ],
   "source": [
    "# Save engineered features\n",
    "def save_features(features_df, filename):\n",
    "    \"\"\"Save engineered features to CSV file\"\"\"\n",
    "    output_path = \"../data/features/\"\n",
    "    # Create features directory if it doesn't exist\n",
    "    os.makedirs(output_path, exist_ok=True)\n",
    "    features_df.to_csv(output_path + filename, index=False)\n",
    "    print(f\"Saved features to {output_path + filename}\")\n",
    "\n",
    "# Example usage:\n",
    "all_season_stats = pd.DataFrame()\n",
    "for season in regular_season['Season'].unique():\n",
    "    winning_stats, losing_stats = calculate_season_stats(regular_season, season)\n",
    "    # Process and combine stats...\n",
    "    season_stats = process_stats(winning_stats, losing_stats)\n",
    "    all_season_stats = pd.concat([all_season_stats, season_stats])\n",
    "\n",
    "# Save the features\n",
    "save_features(all_season_stats, \"team_season_stats.csv\")"
   ]
  },
  {
   "cell_type": "code",
   "execution_count": 20,
   "metadata": {},
   "outputs": [],
   "source": [
    "def process_stats(winning_stats, losing_stats):\n",
    "    \"\"\"Process and combine winning and losing stats into team features\"\"\"\n",
    "    # Rename columns for clarity\n",
    "    winning_stats.columns = ['TeamID', 'Wins', 'PointsScored', 'PointsAllowed', 'OTGames']\n",
    "    losing_stats.columns = ['TeamID', 'OppPointsScored', 'Losses', 'PointsScored2', 'OTGames2']\n",
    "    \n",
    "    # Merge winning and losing stats\n",
    "    team_stats = pd.merge(winning_stats, losing_stats, on='TeamID', how='outer').fillna(0)\n",
    "    \n",
    "    # Calculate derived features\n",
    "    team_stats['Games'] = team_stats['Wins'] + team_stats['Losses'] \n",
    "    team_stats['WinPct'] = team_stats['Wins'] / team_stats['Games']\n",
    "    team_stats['AvgPointsScored'] = (team_stats['PointsScored'] * team_stats['Wins'] + \n",
    "                                    team_stats['PointsScored2'] * team_stats['Losses']) / team_stats['Games']\n",
    "    team_stats['AvgPointsAllowed'] = (team_stats['PointsAllowed'] * team_stats['Wins'] + \n",
    "                                     team_stats['OppPointsScored'] * team_stats['Losses']) / team_stats['Games']\n",
    "    team_stats['OTRate'] = (team_stats['OTGames'] + team_stats['OTGames2']) / team_stats['Games']\n",
    "    \n",
    "    # Select and rename final features\n",
    "    final_cols = ['TeamID', 'Games', 'WinPct', 'AvgPointsScored', 'AvgPointsAllowed', 'OTRate']\n",
    "    return team_stats[final_cols]"
   ]
  }
 ],
 "metadata": {
  "kernelspec": {
   "display_name": "march_mania_2025",
   "language": "python",
   "name": "python3"
  },
  "language_info": {
   "codemirror_mode": {
    "name": "ipython",
    "version": 3
   },
   "file_extension": ".py",
   "mimetype": "text/x-python",
   "name": "python",
   "nbconvert_exporter": "python",
   "pygments_lexer": "ipython3",
   "version": "3.10.16"
  }
 },
 "nbformat": 4,
 "nbformat_minor": 2
}
