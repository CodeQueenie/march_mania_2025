{
 "cells": [
  {
   "cell_type": "markdown",
   "metadata": {},
   "source": [
    "# Feature Engineering for March Madness Predictions"
   ]
  },
  {
   "cell_type": "code",
   "execution_count": 5,
   "metadata": {},
   "outputs": [
    {
     "name": "stdout",
     "output_type": "stream",
     "text": [
      "Data loaded successfully\n"
     ]
    }
   ],
   "source": [
    "import pandas as pd\n",
    "import numpy as np\n",
    "from sklearn.preprocessing import StandardScaler\n",
    "import os\n",
    "import sys\n",
    "\n",
    "# Add project root to path\n",
    "project_root = os.path.abspath(os.path.join(os.getcwd(), '..'))\n",
    "sys.path.append(project_root)\n",
    "\n",
    "from utils.data_loader import data_loader\n",
    "\n",
    "# Load data using data_loader\n",
    "regular_season = data_loader.load_regular_season()\n",
    "tournament_data = data_loader.load_tournament_data()\n",
    "\n",
    "if regular_season is not None and tournament_data is not None:\n",
    "    print(\"Data loaded successfully\")\n",
    "else:\n",
    "    print(\"Error loading data\")"
   ]
  },
  {
   "cell_type": "markdown",
   "metadata": {},
   "source": [
    "# Feature Engineering & Scaling\n",
    "\n",
    "This cell applies feature engineering functions (imported from scripts/feature_engineering.py) and then scales onlt selected continous features (win_margin, shooting_efficiency, sos_rating). \n",
    "\n",
    "Categorical or ranking features remain untouched."
   ]
  },
  {
   "cell_type": "code",
   "execution_count": 2,
   "metadata": {},
   "outputs": [
    {
     "name": "stdout",
     "output_type": "stream",
     "text": [
      "Object `copilot` not found.\n"
     ]
    }
   ],
   "source": [
    "whats the code copilot?"
   ]
  },
  {
   "cell_type": "markdown",
   "metadata": {},
   "source": [
    "# Code Cell 2: Process Features and Scale Selected Continuous Variables\n",
    "\n",
    "Scale only selected continuous features."
   ]
  },
  {
   "cell_type": "markdown",
   "metadata": {},
   "source": [
    "## Team Performance Metrics\n",
    "\n",
    "Calculate season stats for each team:"
   ]
  },
  {
   "cell_type": "code",
   "execution_count": 3,
   "metadata": {},
   "outputs": [
    {
     "ename": "SyntaxError",
     "evalue": "unmatched '}' (3591553944.py, line 11)",
     "output_type": "error",
     "traceback": [
      "\u001b[1;36m  Cell \u001b[1;32mIn[3], line 11\u001b[1;36m\u001b[0m\n\u001b[1;33m    }).reset_index()\u001b[0m\n\u001b[1;37m    ^\u001b[0m\n\u001b[1;31mSyntaxError\u001b[0m\u001b[1;31m:\u001b[0m unmatched '}'\n"
     ]
    }
   ],
   "source": [
    "def calculate_season_stats(df, season):\n",
    "    \"\"\"Calculate team statistics for a given season\"\"\"\n",
    "    try:\n",
    "        season_games = df[df['Season'] == season]\n",
    "        \n",
    "        # Calculate aggregate stats\n",
    "        'NumOT': ['sum']\n",
    "            'WScore': ['count', 'mean'],\n",
    "            'LScore': ['mean'],\n",
    "            'NumOT': ['sum']\n",
    "        }).reset_index()\n",
    "        \n",
    "        losing_stats = season_games.groupby('LTeamID').agg({\n",
    "            'WScore': ['mean'], \n",
    "            'LScore': ['count', 'mean'],\n",
    "            'NumOT': ['sum']\n",
    "        }).reset_index()\n",
    "        \n",
    "        return winning_stats, losing_stats\n",
    "    except Exception as e:\n",
    "        print(f\"Error calculating season stats for {season}: {e}\")\n",
    "        return None, None"
   ]
  },
  {
   "cell_type": "code",
   "execution_count": null,
   "metadata": {},
   "outputs": [
    {
     "ename": "NameError",
     "evalue": "name 'process_stats' is not defined",
     "output_type": "error",
     "traceback": [
      "\u001b[1;31m---------------------------------------------------------------------------\u001b[0m",
      "\u001b[1;31mNameError\u001b[0m                                 Traceback (most recent call last)",
      "Cell \u001b[1;32mIn[3], line 15\u001b[0m\n\u001b[0;32m     13\u001b[0m     winning_stats, losing_stats \u001b[38;5;241m=\u001b[39m calculate_season_stats(regular_season, season)\n\u001b[0;32m     14\u001b[0m     \u001b[38;5;66;03m# Process and combine stats...\u001b[39;00m\n\u001b[1;32m---> 15\u001b[0m     season_stats \u001b[38;5;241m=\u001b[39m \u001b[43mprocess_stats\u001b[49m(winning_stats, losing_stats)\n\u001b[0;32m     16\u001b[0m     all_season_stats \u001b[38;5;241m=\u001b[39m pd\u001b[38;5;241m.\u001b[39mconcat([all_season_stats, season_stats])\n\u001b[0;32m     18\u001b[0m \u001b[38;5;66;03m# Save the features\u001b[39;00m\n",
      "\u001b[1;31mNameError\u001b[0m: name 'process_stats' is not defined"
     ]
    }
   ],
   "source": [
    "def process_stats(winning_stats, losing_stats):\n",
    "    \"\"\"Process and combine winning and losing stats into team features\"\"\"\n",
    "    # Rename columns for clarity\n",
    "    winning_stats.columns = ['TeamID', 'Wins', 'PointsScored', 'PointsAllowed', 'OTGames']\n",
    "    losing_stats.columns = ['TeamID', 'OppPointsScored', 'Losses', 'PointsScored2', 'OTGames2']\n",
    "    \n",
    "    # Merge winning and losing stats\n",
    "    team_stats = pd.merge(winning_stats, losing_stats, on='TeamID', how='outer').fillna(0)\n",
    "    \n",
    "    # Calculate derived features\n",
    "    team_stats['Games'] = team_stats['Wins'] + team_stats['Losses'] \n",
    "    team_stats['WinPct'] = team_stats['Wins'] / team_stats['Games']\n",
    "    team_stats['AvgPointsScored'] = (team_stats['PointsScored'] * team_stats['Wins'] + \n",
    "                                    team_stats['PointsScored2'] * team_stats['Losses']) / team_stats['Games']\n",
    "    team_stats['AvgPointsAllowed'] = (team_stats['PointsAllowed'] * team_stats['Wins'] + \n",
    "                                     team_stats['OppPointsScored'] * team_stats['Losses']) / team_stats['Games']\n",
    "    team_stats['OTRate'] = (team_stats['OTGames'] + team_stats['OTGames2']) / team_stats['Games']\n",
    "    \n",
    "    # Select and rename final features\n",
    "    final_cols = ['TeamID', 'Games', 'WinPct', 'AvgPointsScored', 'AvgPointsAllowed', 'OTRate']\n",
    "    return team_stats[final_cols]"
   ]
  },
  {
   "cell_type": "code",
   "execution_count": 4,
   "metadata": {},
   "outputs": [
    {
     "name": "stdout",
     "output_type": "stream",
     "text": [
      "Error processing seasons: name 'calculate_season_stats' is not defined\n"
     ]
    }
   ],
   "source": [
    "# Save engineered features\n",
    "def save_features(features_df, filename):\n",
    "    \"\"\"Save engineered features to CSV file\"\"\"\n",
    "    output_path = \"../data/features/\"\n",
    "    # Create features directory if it doesn't exist\n",
    "    os.makedirs(output_path, exist_ok=True)\n",
    "    features_df.to_csv(output_path + filename, index=False)\n",
    "    print(f\"Saved features to {output_path + filename}\")\n",
    "\n",
    "# Process all seasons with error handling\n",
    "try:\n",
    "    all_season_stats = pd.DataFrame()\n",
    "    for season in regular_season['Season'].unique():\n",
    "        winning_stats, losing_stats = calculate_season_stats(regular_season, season)\n",
    "        if winning_stats is not None and losing_stats is not None:\n",
    "            season_stats = process_stats(winning_stats, losing_stats)\n",
    "            all_season_stats = pd.concat([all_season_stats, season_stats])\n",
    "    \n",
    "    # Save features\n",
    "    output_path = os.path.join(project_root, 'data', 'features')\n",
    "    os.makedirs(output_path, exist_ok=True)\n",
    "    all_season_stats.to_csv(os.path.join(output_path, 'team_season_stats.csv'), index=False)\n",
    "    print(\"Features saved successfully\")\n",
    "except Exception as e:\n",
    "    print(f\"Error processing seasons: {e}\")"
   ]
  }
 ],
 "metadata": {
  "kernelspec": {
   "display_name": "march_mania_2025",
   "language": "python",
   "name": "python3"
  },
  "language_info": {
   "codemirror_mode": {
    "name": "ipython",
    "version": 3
   },
   "file_extension": ".py",
   "mimetype": "text/x-python",
   "name": "python",
   "nbconvert_exporter": "python",
   "pygments_lexer": "ipython3",
   "version": "3.10.16"
  }
 },
 "nbformat": 4,
 "nbformat_minor": 2
}
